{
  "cells": [
    {
      "cell_type": "markdown",
      "metadata": {
        "colab_type": "text",
        "id": "view-in-github"
      },
      "source": [
        "<a href=\"https://colab.research.google.com/github/carlos1500/Blue-Mod1/blob/main/Projeto_1_Detetive.ipynb\" target=\"_parent\"><img src=\"https://colab.research.google.com/assets/colab-badge.svg\" alt=\"Open In Colab\"/></a>"
      ]
    },
    {
      "cell_type": "code",
      "execution_count": 83,
      "metadata": {
        "colab": {
          "base_uri": "https://localhost:8080/"
        },
        "id": "uSxPDeI5TM1F",
        "outputId": "6331016b-bd45-49be-92d7-8de84e738fc4"
      },
      "outputs": [
        {
          "name": "stdout",
          "output_type": "stream",
          "text": [
            "Você telefonou para a vítima?sim\n",
            "certo...\n",
            "Você esteve no local do crime?sim\n",
            "certo...\n",
            "Você mora perto da vítima?sim\n",
            "certo...\n",
            "Você devia para a vítima?não\n",
            "Ok...\n",
            "Você já trabalhou com a vítima?não\n",
            "Ok...\n",
            "Você é considerado cúmplice!\n"
          ]
        }
      ],
      "source": [
        "Score = 0\r\n",
        "Erro= \"Isso é um inquérito policial sério, por favor responda apenas sim ou não\"\r\n",
        "P1 = \"Você telefonou para a vítima?\"\r\n",
        "P2 = \"Você esteve no local do crime?\"\r\n",
        "P3 = \"Você mora perto da vítima?\"\r\n",
        "P4 = \"Você devia para a vítima?\"\r\n",
        "P5 = \"Você já trabalhou com a vítima?\" \r\n",
        "\r\n",
        "while True:\r\n",
        "    R1 = input(P1).upper()\r\n",
        "    if R1 == (\"SIM\"):\r\n",
        "        Score += 1\r\n",
        "        print (\"certo...\")\r\n",
        "    elif R1 == (\"NÃO\"):\r\n",
        "        print (\"Ok...\")\r\n",
        "    else:\r\n",
        "        print (Erro)\r\n",
        "        continue\r\n",
        "    break\r\n",
        "\r\n",
        "while True:\r\n",
        "    R2 = input(P2).upper()\r\n",
        "    if R2 == (\"SIM\"):\r\n",
        "        Score += 1\r\n",
        "        print (\"certo...\")\r\n",
        "    elif R2 == (\"NÃO\"):\r\n",
        "        print (\"Ok...\")\r\n",
        "    else:\r\n",
        "        print (Erro)\r\n",
        "        continue\r\n",
        "    break\r\n",
        "\r\n",
        "while True:\r\n",
        "    R3 = input(P3).upper()\r\n",
        "    if R3 == (\"SIM\"):\r\n",
        "        Score += 1\r\n",
        "        print (\"certo...\")\r\n",
        "    elif R3 == (\"NÃO\"):\r\n",
        "        print (\"Ok...\")\r\n",
        "    else:\r\n",
        "        print (Erro)\r\n",
        "        continue\r\n",
        "    break\r\n",
        "\r\n",
        "while True:\r\n",
        "    R4 = input(P4).upper()\r\n",
        "    if R4 == (\"SIM\"):\r\n",
        "        Score += 1\r\n",
        "        print (\"certo...\")\r\n",
        "    elif R4 == (\"NÃO\"):\r\n",
        "        print (\"Ok...\")\r\n",
        "    else:\r\n",
        "        print (Erro)\r\n",
        "        continue\r\n",
        "    break\r\n",
        "\r\n",
        "while True:\r\n",
        "    R5 = input(P5).upper()\r\n",
        "    if R5 == (\"SIM\"):\r\n",
        "        Score += 1\r\n",
        "        print (\"certo...\")\r\n",
        "    elif R5 == (\"NÃO\"):\r\n",
        "        print (\"Ok...\")\r\n",
        "    else:\r\n",
        "        print (Erro)\r\n",
        "        continue\r\n",
        "    break\r\n",
        "\r\n",
        "if Score < 2:\r\n",
        "  print (\"Você é inocente, desculpe o incômodo\")\r\n",
        "if Score == 2:\r\n",
        "  print(\"Você é considerado suspeito!\")\r\n",
        "if Score == 3 or 4:\r\n",
        "  print (\"Você é considerado cúmplice!\")\r\n",
        "if Score == 5:\r\n",
        "  print (\"Você é o assassino e por isso será preso!\")\r\n",
        "\r\n",
        "\r\n",
        "  "
      ]
    }
  ],
  "metadata": {
    "colab": {
      "authorship_tag": "ABX9TyO7A209yBqr16tChoa5xtQ9",
      "include_colab_link": true,
      "name": "Projeto 1 - Detetive.ipynb",
      "provenance": []
    },
    "interpreter": {
      "hash": "321a562c32c1ef0f4d1bce6724f96cbf5562b75820608d2935414fe72bdf9c83"
    },
    "kernelspec": {
      "display_name": "Python 3.9.5 64-bit",
      "name": "python3"
    },
    "language_info": {
      "name": "python",
      "version": ""
    }
  },
  "nbformat": 4,
  "nbformat_minor": 0
}