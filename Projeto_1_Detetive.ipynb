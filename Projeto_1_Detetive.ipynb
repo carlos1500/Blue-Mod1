{
  "nbformat": 4,
  "nbformat_minor": 0,
  "metadata": {
    "colab": {
      "name": "Projeto 1 - Detetive.ipynb",
      "provenance": [],
      "authorship_tag": "ABX9TyO7A209yBqr16tChoa5xtQ9",
      "include_colab_link": true
    },
    "kernelspec": {
      "name": "python3",
      "display_name": "Python 3"
    },
    "language_info": {
      "name": "python"
    }
  },
  "cells": [
    {
      "cell_type": "markdown",
      "metadata": {
        "id": "view-in-github",
        "colab_type": "text"
      },
      "source": [
        "<a href=\"https://colab.research.google.com/github/carlos1500/Blue-Mod1/blob/main/Projeto_1_Detetive.ipynb\" target=\"_parent\"><img src=\"https://colab.research.google.com/assets/colab-badge.svg\" alt=\"Open In Colab\"/></a>"
      ]
    },
    {
      "cell_type": "code",
      "metadata": {
        "colab": {
          "base_uri": "https://localhost:8080/"
        },
        "id": "uSxPDeI5TM1F",
        "outputId": "6331016b-bd45-49be-92d7-8de84e738fc4"
      },
      "source": [
        "Score = 0\n",
        "Erro= \"Isso é um inquérito policial sério, por favor responda apenas sim ou não\"\n",
        "P1 = \"Você telefonou para a vítima?\"\n",
        "P2 = \"Você esteve no local do crime?\"\n",
        "P3 = \"Você mora perto da vítima?\"\n",
        "P4 = \"Você devia para a vítima?\"\n",
        "P5 = \"Você já trabalhou com a vítima?\" \n",
        "\n",
        "while True:\n",
        "    R1 = input(P1).upper()\n",
        "    if R1 == (\"SIM\"):\n",
        "        Score += 1\n",
        "        print (\"certo...\")\n",
        "    elif R1 == (\"NÃO\"):\n",
        "        print (\"Ok...\")\n",
        "    else:\n",
        "        print (Erro)\n",
        "        continue\n",
        "    break\n",
        "\n",
        "while True:\n",
        "    R2 = input(P2).upper()\n",
        "    if R2 == (\"SIM\"):\n",
        "        Score += 1\n",
        "        print (\"certo...\")\n",
        "    elif R2 == (\"NÃO\"):\n",
        "        print (\"Ok...\")\n",
        "    else:\n",
        "        print (Erro)\n",
        "        continue\n",
        "    break\n",
        "\n",
        "while True:\n",
        "    R3 = input(P3).upper()\n",
        "    if R3 == (\"SIM\"):\n",
        "        Score += 1\n",
        "        print (\"certo...\")\n",
        "    elif R3 == (\"NÃO\"):\n",
        "        print (\"Ok...\")\n",
        "    else:\n",
        "        print (Erro)\n",
        "        continue\n",
        "    break\n",
        "\n",
        "while True:\n",
        "    R4 = input(P4).upper()\n",
        "    if R4 == (\"SIM\"):\n",
        "        Score += 1\n",
        "        print (\"certo...\")\n",
        "    elif R4 == (\"NÃO\"):\n",
        "        print (\"Ok...\")\n",
        "    else:\n",
        "        print (Erro)\n",
        "        continue\n",
        "    break\n",
        "\n",
        "while True:\n",
        "    R5 = input(P5).upper()\n",
        "    if R5 == (\"SIM\"):\n",
        "        Score += 1\n",
        "        print (\"certo...\")\n",
        "    elif R5 == (\"NÃO\"):\n",
        "        print (\"Ok...\")\n",
        "    else:\n",
        "        print (Erro)\n",
        "        continue\n",
        "    break\n",
        "\n",
        "if Score < 2:\n",
        "  print (\"Você é incente, desculpe o incômodo\")\n",
        "if Score == 2:\n",
        "  print(\"Você é considerado suspeito!\")\n",
        "if Score == 3 or 4:\n",
        "  print (\"Você é considerado cúmplice!\")\n",
        "if Score == 5:\n",
        "  print (\"Você é o assassino e por isso será preso!\")\n",
        "\n",
        "\n",
        "  "
      ],
      "execution_count": 83,
      "outputs": [
        {
          "output_type": "stream",
          "text": [
            "Você telefonou para a vítima?sim\n",
            "certo...\n",
            "Você esteve no local do crime?sim\n",
            "certo...\n",
            "Você mora perto da vítima?sim\n",
            "certo...\n",
            "Você devia para a vítima?não\n",
            "Ok...\n",
            "Você já trabalhou com a vítima?não\n",
            "Ok...\n",
            "Você é considerado cúmplice!\n"
          ],
          "name": "stdout"
        }
      ]
    }
  ]
}